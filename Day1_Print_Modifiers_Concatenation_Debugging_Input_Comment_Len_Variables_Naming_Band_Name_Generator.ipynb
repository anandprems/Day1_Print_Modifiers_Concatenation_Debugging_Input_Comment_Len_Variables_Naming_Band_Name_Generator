{
 "cells": [
  {
   "cell_type": "markdown",
   "id": "337b6d10",
   "metadata": {},
   "source": [
    "## PRINT () Function"
   ]
  },
  {
   "cell_type": "code",
   "execution_count": 1,
   "id": "52dc3d20",
   "metadata": {},
   "outputs": [
    {
     "name": "stdout",
     "output_type": "stream",
     "text": [
      "Hello World!\n"
     ]
    }
   ],
   "source": [
    "print('Hello World!')"
   ]
  },
  {
   "cell_type": "code",
   "execution_count": 2,
   "id": "441c4c5b",
   "metadata": {},
   "outputs": [
    {
     "ename": "SyntaxError",
     "evalue": "unterminated string literal (detected at line 1) (3571950873.py, line 1)",
     "output_type": "error",
     "traceback": [
      "\u001b[1;36m  Cell \u001b[1;32mIn[2], line 1\u001b[1;36m\u001b[0m\n\u001b[1;33m    print('Hello World!)\u001b[0m\n\u001b[1;37m          ^\u001b[0m\n\u001b[1;31mSyntaxError\u001b[0m\u001b[1;31m:\u001b[0m unterminated string literal (detected at line 1)\n"
     ]
    }
   ],
   "source": [
    "print('Hello World!)"
   ]
  },
  {
   "cell_type": "code",
   "execution_count": 3,
   "id": "b325c7e6",
   "metadata": {},
   "outputs": [
    {
     "ename": "SyntaxError",
     "evalue": "incomplete input (628126063.py, line 1)",
     "output_type": "error",
     "traceback": [
      "\u001b[1;36m  Cell \u001b[1;32mIn[3], line 1\u001b[1;36m\u001b[0m\n\u001b[1;33m    print('Hello World!'\u001b[0m\n\u001b[1;37m                        ^\u001b[0m\n\u001b[1;31mSyntaxError\u001b[0m\u001b[1;31m:\u001b[0m incomplete input\n"
     ]
    }
   ],
   "source": [
    "print('Hello World!'"
   ]
  },
  {
   "cell_type": "code",
   "execution_count": 4,
   "id": "34731cef",
   "metadata": {},
   "outputs": [
    {
     "ename": "SyntaxError",
     "evalue": "unterminated string literal (detected at line 1) (3448751312.py, line 1)",
     "output_type": "error",
     "traceback": [
      "\u001b[1;36m  Cell \u001b[1;32mIn[4], line 1\u001b[1;36m\u001b[0m\n\u001b[1;33m    print(\"Hello world!')\u001b[0m\n\u001b[1;37m          ^\u001b[0m\n\u001b[1;31mSyntaxError\u001b[0m\u001b[1;31m:\u001b[0m unterminated string literal (detected at line 1)\n"
     ]
    }
   ],
   "source": [
    "print(\"Hello world!')"
   ]
  },
  {
   "cell_type": "code",
   "execution_count": 5,
   "id": "269b845d",
   "metadata": {},
   "outputs": [
    {
     "ename": "SyntaxError",
     "evalue": "invalid syntax. Perhaps you forgot a comma? (962245939.py, line 1)",
     "output_type": "error",
     "traceback": [
      "\u001b[1;36m  Cell \u001b[1;32mIn[5], line 1\u001b[1;36m\u001b[0m\n\u001b[1;33m    print(\"She said: \"Hello\" and then left.\")\u001b[0m\n\u001b[1;37m          ^\u001b[0m\n\u001b[1;31mSyntaxError\u001b[0m\u001b[1;31m:\u001b[0m invalid syntax. Perhaps you forgot a comma?\n"
     ]
    }
   ],
   "source": [
    "print(\"She said: \"Hello\" and then left.\")"
   ]
  },
  {
   "cell_type": "code",
   "execution_count": 6,
   "id": "68dd51b9",
   "metadata": {},
   "outputs": [
    {
     "name": "stdout",
     "output_type": "stream",
     "text": [
      "She said: \"Hello\" and then left.\n"
     ]
    }
   ],
   "source": [
    "print('She said: \"Hello\" and then left.')"
   ]
  },
  {
   "cell_type": "code",
   "execution_count": 7,
   "id": "072374b1",
   "metadata": {},
   "outputs": [
    {
     "name": "stdout",
     "output_type": "stream",
     "text": [
      "She said: \"Hello\" and then left.\n"
     ]
    }
   ],
   "source": [
    "print(\"She said: \\\"Hello\\\" and then left.\")"
   ]
  },
  {
   "cell_type": "code",
   "execution_count": 8,
   "id": "b59dafd8",
   "metadata": {},
   "outputs": [
    {
     "name": "stdout",
     "output_type": "stream",
     "text": [
      "A 'single quote' inside a double quote\n",
      "A \"double quote\" inside a single quote\n",
      "Alternatively you can just \"escape\" the quote\n"
     ]
    }
   ],
   "source": [
    "print(\"A 'single quote' inside a double quote\")\n",
    "print('A \"double quote\" inside a single quote')\n",
    "print(\"Alternatively you can just \\\"escape\\\" the quote\")"
   ]
  },
  {
   "cell_type": "code",
   "execution_count": 9,
   "id": "af9dc6ad",
   "metadata": {},
   "outputs": [
    {
     "name": "stdout",
     "output_type": "stream",
     "text": [
      "Hello wolrd!\n",
      "Hello wolrd!\n",
      "Hello wolrd!\n"
     ]
    }
   ],
   "source": [
    "print('Hello wolrd!')\n",
    "print('Hello wolrd!')\n",
    "print('Hello wolrd!')"
   ]
  },
  {
   "cell_type": "code",
   "execution_count": 11,
   "id": "9ad7075d",
   "metadata": {},
   "outputs": [
    {
     "name": "stdout",
     "output_type": "stream",
     "text": [
      " Hello wolrd!\n",
      " Hello world! \n",
      " Hello world!\n"
     ]
    }
   ],
   "source": [
    "print(' Hello wolrd!\\n Hello world! \\n Hello world!')   #\\n - new line"
   ]
  },
  {
   "cell_type": "code",
   "execution_count": 13,
   "id": "11ee8c7c",
   "metadata": {},
   "outputs": [
    {
     "name": "stdout",
     "output_type": "stream",
     "text": [
      "helloPrem\n"
     ]
    }
   ],
   "source": [
    "print('hello' + 'Prem')"
   ]
  },
  {
   "cell_type": "code",
   "execution_count": 15,
   "id": "e5161dff",
   "metadata": {},
   "outputs": [
    {
     "name": "stdout",
     "output_type": "stream",
     "text": [
      "hello Prem\n"
     ]
    }
   ],
   "source": [
    "print('hello'+ ' '+'Prem')"
   ]
  },
  {
   "cell_type": "code",
   "execution_count": 16,
   "id": "4924d18c",
   "metadata": {},
   "outputs": [
    {
     "name": "stdout",
     "output_type": "stream",
     "text": [
      "hello Prem\n"
     ]
    }
   ],
   "source": [
    "print('hello ' + 'Prem')"
   ]
  },
  {
   "cell_type": "code",
   "execution_count": 17,
   "id": "e9b9f7f3",
   "metadata": {},
   "outputs": [
    {
     "name": "stdout",
     "output_type": "stream",
     "text": [
      "hello Prem\n"
     ]
    }
   ],
   "source": [
    "print('hello' + ' Prem')"
   ]
  },
  {
   "cell_type": "code",
   "execution_count": 19,
   "id": "aba78950",
   "metadata": {},
   "outputs": [
    {
     "name": "stdout",
     "output_type": "stream",
     "text": [
      "helloPrem\n"
     ]
    }
   ],
   "source": [
    "    print('hello' + 'Prem')"
   ]
  },
  {
   "cell_type": "code",
   "execution_count": 20,
   "id": "661ef80c",
   "metadata": {},
   "outputs": [
    {
     "ename": "SyntaxError",
     "evalue": "unterminated string literal (detected at line 1) (370350585.py, line 1)",
     "output_type": "error",
     "traceback": [
      "\u001b[1;36m  Cell \u001b[1;32mIn[20], line 1\u001b[1;36m\u001b[0m\n\u001b[1;33m    print(Day 1 - String Manipulation\")\u001b[0m\n\u001b[1;37m                                     ^\u001b[0m\n\u001b[1;31mSyntaxError\u001b[0m\u001b[1;31m:\u001b[0m unterminated string literal (detected at line 1)\n"
     ]
    }
   ],
   "source": [
    "print(Day 1 - String Manipulation\")\n",
    "print(\"String Concatenation is done with the \"+\" sign.\")\n",
    "  print('e.g. print(\"Hello \" + \"world\")')\n",
    "print((\"New lines can be created with a backslash and n.\")"
   ]
  },
  {
   "cell_type": "code",
   "execution_count": 21,
   "id": "9fbed8e1",
   "metadata": {},
   "outputs": [
    {
     "name": "stdout",
     "output_type": "stream",
     "text": [
      "Day 1 - String Manipulation\n",
      "String Concatenation is done with the \"+\" sign.\n",
      "e.g. print(\"Hello \" + \"world\")\n",
      "New lines can be created with a backslash and n.\n"
     ]
    }
   ],
   "source": [
    "print(\"Day 1 - String Manipulation\")\n",
    "print('String Concatenation is done with the \"+\" sign.')\n",
    "print('e.g. print(\"Hello \" + \"world\")')\n",
    "print(\"New lines can be created with a backslash and n.\")"
   ]
  },
  {
   "cell_type": "markdown",
   "id": "6e3b9fed",
   "metadata": {},
   "source": [
    "## Input function"
   ]
  },
  {
   "cell_type": "code",
   "execution_count": 22,
   "id": "b0947948",
   "metadata": {},
   "outputs": [
    {
     "name": "stdout",
     "output_type": "stream",
     "text": [
      "What is your name?\n"
     ]
    }
   ],
   "source": [
    "print('What is your name?')"
   ]
  },
  {
   "cell_type": "code",
   "execution_count": 23,
   "id": "e14167f4",
   "metadata": {},
   "outputs": [
    {
     "name": "stdout",
     "output_type": "stream",
     "text": [
      "What is your name?Premanand\n"
     ]
    },
    {
     "data": {
      "text/plain": [
       "'Premanand'"
      ]
     },
     "execution_count": 23,
     "metadata": {},
     "output_type": "execute_result"
    }
   ],
   "source": [
    "input('What is your name?')"
   ]
  },
  {
   "cell_type": "markdown",
   "id": "2f670e10",
   "metadata": {},
   "source": [
    "## Comments"
   ]
  },
  {
   "cell_type": "code",
   "execution_count": 25,
   "id": "c1c395ee",
   "metadata": {},
   "outputs": [
    {
     "name": "stdout",
     "output_type": "stream",
     "text": [
      "What is your name?Premanand\n",
      "Hello Premanand\n"
     ]
    }
   ],
   "source": [
    "#input() - get the input from the user\n",
    "#print() - display the content inside the quote\n",
    "\n",
    "print('Hello ' + input('What is your name?'))"
   ]
  },
  {
   "cell_type": "code",
   "execution_count": 26,
   "id": "9f9be048",
   "metadata": {},
   "outputs": [
    {
     "name": "stdout",
     "output_type": "stream",
     "text": [
      "3\n",
      "5\n",
      "15\n"
     ]
    }
   ],
   "source": [
    "num1 = int(input())\n",
    "num2 = int(input())\n",
    "\n",
    "print(num1 * num2)"
   ]
  },
  {
   "cell_type": "markdown",
   "id": "76e2d58b",
   "metadata": {},
   "source": [
    "## Len function"
   ]
  },
  {
   "cell_type": "code",
   "execution_count": 27,
   "id": "5283a95e",
   "metadata": {},
   "outputs": [
    {
     "name": "stdout",
     "output_type": "stream",
     "text": [
      "9\n"
     ]
    }
   ],
   "source": [
    "numOfLetters = len(\"Premanand\")\n",
    "print(numOfLetters)"
   ]
  },
  {
   "cell_type": "code",
   "execution_count": 29,
   "id": "b8ceb7f4",
   "metadata": {},
   "outputs": [
    {
     "name": "stdout",
     "output_type": "stream",
     "text": [
      "premanand\n",
      "9\n"
     ]
    }
   ],
   "source": [
    "name = input()\n",
    "print(len(name))"
   ]
  },
  {
   "cell_type": "markdown",
   "id": "e6bd30f0",
   "metadata": {},
   "source": [
    "## Variable"
   ]
  },
  {
   "cell_type": "code",
   "execution_count": 30,
   "id": "124f765e",
   "metadata": {},
   "outputs": [
    {
     "name": "stdout",
     "output_type": "stream",
     "text": [
      "Prem\n"
     ]
    }
   ],
   "source": [
    "name = 'Prem'\n",
    "print(name)"
   ]
  },
  {
   "cell_type": "code",
   "execution_count": 31,
   "id": "c33e1c05",
   "metadata": {},
   "outputs": [
    {
     "name": "stdout",
     "output_type": "stream",
     "text": [
      "Anand\n"
     ]
    }
   ],
   "source": [
    "#overwrites \n",
    "name = 'Anand'\n",
    "print(name)"
   ]
  },
  {
   "cell_type": "code",
   "execution_count": 33,
   "id": "350fcc07",
   "metadata": {},
   "outputs": [
    {
     "name": "stdout",
     "output_type": "stream",
     "text": [
      "what is your name?Premanand\n",
      "9\n"
     ]
    }
   ],
   "source": [
    "name = input('what is your name?')\n",
    "length = len(name)\n",
    "print(length)"
   ]
  },
  {
   "cell_type": "code",
   "execution_count": 35,
   "id": "34df75ae",
   "metadata": {},
   "outputs": [
    {
     "name": "stdout",
     "output_type": "stream",
     "text": [
      "29\n",
      "41\n",
      "2\n",
      "a: 2\n",
      "b: 2\n"
     ]
    }
   ],
   "source": [
    "# There are two variables, a and b from input\n",
    "a = input()\n",
    "b = input()\n",
    "# 🚨 Don't change the code above ☝️\n",
    "####################################\n",
    "# Write your code below this line 👇\n",
    "\n",
    "\n",
    "\n",
    "# 🚨 Don't change the code below 👇\n",
    "print(\"a: \" + a)\n",
    "print(\"b: \" + b)"
   ]
  },
  {
   "cell_type": "code",
   "execution_count": 36,
   "id": "d4ae41d4",
   "metadata": {},
   "outputs": [
    {
     "name": "stdout",
     "output_type": "stream",
     "text": [
      "hello\n",
      "world\n",
      "a: world\n",
      "b: hello\n"
     ]
    }
   ],
   "source": [
    "# There are two variables, a and b\n",
    "a = input()\n",
    "b = input()\n",
    "# Create a third variable to help switch the values\n",
    "c = a\n",
    "a = b\n",
    "b = c\n",
    "\n",
    "print(\"a: \" + a)\n",
    "print(\"b: \" + b)"
   ]
  },
  {
   "cell_type": "markdown",
   "id": "09fc397e",
   "metadata": {},
   "source": [
    "## DAY 1: Band Generator"
   ]
  },
  {
   "cell_type": "code",
   "execution_count": 37,
   "id": "e36eba17",
   "metadata": {},
   "outputs": [],
   "source": [
    "#1. Create a greeting for your program.\n",
    "\n",
    "#2. Ask the user for the city that they grew up in.\n",
    "\n",
    "#3. Ask the user for the name of a pet.\n",
    "\n",
    "#4. Combine the name of their city and pet and show them their band name.\n",
    "\n",
    "#5. Make sure the input cursor shows on a new line:\n",
    "\n",
    "# Solution: https://replit.com/@appbrewery/band-name-generator-end"
   ]
  },
  {
   "cell_type": "code",
   "execution_count": 41,
   "id": "3b14ff6c",
   "metadata": {},
   "outputs": [
    {
     "name": "stdout",
     "output_type": "stream",
     "text": [
      "Welcome to the Band Name Generator!\n",
      "The city that you grew up? \n",
      "Palacode\n",
      "Name of the pet? \n",
      "Jacky\n",
      "PalacodeJacky\n"
     ]
    }
   ],
   "source": [
    "print('Welcome to the Band Name Generator!')\n",
    "city = input('The city that you grew up? \\n')\n",
    "pet = input('Name of the pet? \\n')\n",
    "band_name = print(city + pet)"
   ]
  },
  {
   "cell_type": "code",
   "execution_count": null,
   "id": "ff0358a7",
   "metadata": {},
   "outputs": [],
   "source": []
  }
 ],
 "metadata": {
  "kernelspec": {
   "display_name": "Python 3 (ipykernel)",
   "language": "python",
   "name": "python3"
  },
  "language_info": {
   "codemirror_mode": {
    "name": "ipython",
    "version": 3
   },
   "file_extension": ".py",
   "mimetype": "text/x-python",
   "name": "python",
   "nbconvert_exporter": "python",
   "pygments_lexer": "ipython3",
   "version": "3.11.5"
  }
 },
 "nbformat": 4,
 "nbformat_minor": 5
}
